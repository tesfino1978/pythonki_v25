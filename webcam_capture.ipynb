{
  "nbformat": 4,
  "nbformat_minor": 0,
  "metadata": {
    "colab": {
      "provenance": [],
      "authorship_tag": "ABX9TyNt2vZMWgUGHE+ResddFZ7J",
      "include_colab_link": true
    },
    "kernelspec": {
      "name": "python3",
      "display_name": "Python 3"
    },
    "language_info": {
      "name": "python"
    }
  },
  "cells": [
    {
      "cell_type": "markdown",
      "metadata": {
        "id": "view-in-github",
        "colab_type": "text"
      },
      "source": [
        "<a href=\"https://colab.research.google.com/github/tesfino1978/pythonki_v25/blob/main/webcam_capture.ipynb\" target=\"_parent\"><img src=\"https://colab.research.google.com/assets/colab-badge.svg\" alt=\"Open In Colab\"/></a>"
      ]
    },
    {
      "cell_type": "code",
      "execution_count": null,
      "metadata": {
        "id": "u5jfRc3cqNt_"
      },
      "outputs": [],
      "source": [
        "import numpy as np # conda install numpy\n",
        "import cv2 as cv # pip install opencv-python\n",
        "\n",
        "cap = cv.VideoCapture(0)\n",
        "if not cap.isOpened():\n",
        "    print(\"Cannot open camera\")\n",
        "    exit()\n",
        "while True:\n",
        "    # Capture frame-by-frame\n",
        "    ret, frame = cap.read()\n",
        "    # if frame is read correctly ret is True\n",
        "    if not ret:\n",
        "        print(\"Can't receive frame (stream end?). Exiting ...\")\n",
        "        break\n",
        "    # Our operations on the frame come here\n",
        "    gray = cv.cvtColor(frame, cv.COLOR_BGR2GRAY)\n",
        "\n",
        "    # Display the resulting frame\n",
        "    cv.imshow('frame', gray)\n",
        "    if cv.waitKey(1) == ord('q'):\n",
        "        break\n",
        "# When everything done, release the capture\n",
        "cap.release()\n",
        "cv.destroyAllWindows()"
      ]
    }
  ]
}